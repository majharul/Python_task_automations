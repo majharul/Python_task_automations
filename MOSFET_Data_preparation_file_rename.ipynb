{
  "nbformat": 4,
  "nbformat_minor": 0,
  "metadata": {
    "colab": {
      "provenance": [],
      "include_colab_link": true
    },
    "kernelspec": {
      "name": "python3",
      "display_name": "Python 3"
    },
    "language_info": {
      "name": "python"
    }
  },
  "cells": [
    {
      "cell_type": "markdown",
      "metadata": {
        "id": "view-in-github",
        "colab_type": "text"
      },
      "source": [
        "<a href=\"https://colab.research.google.com/github/majharul/Python_task_automations/blob/main/MOSFET_Data_preparation_file_rename.ipynb\" target=\"_parent\"><img src=\"https://colab.research.google.com/assets/colab-badge.svg\" alt=\"Open In Colab\"/></a>"
      ]
    },
    {
      "cell_type": "markdown",
      "source": [
        "The Main purpose of the script is to get raw data from B1500A semiconductor analyzer and get rename the file and copy to a separate directory.\n",
        "File rename is necessary becasue it has a comma , and some programm doesnot recognize file after the comma.\n",
        "this is the primary step to convert the entire file for a conversin for data analysis and fitting to extract the compact model of the semicocductor devices."
      ],
      "metadata": {
        "id": "Twy8mIM5tlXY"
      }
    },
    {
      "cell_type": "code",
      "execution_count": null,
      "metadata": {
        "colab": {
          "base_uri": "https://localhost:8080/"
        },
        "id": "OV1TW02Ndpb_",
        "outputId": "ec451a9a-8e82-4507-f272-33e43dea99d4"
      },
      "outputs": [
        {
          "output_type": "stream",
          "name": "stdout",
          "text": [
            "Mounted at /content/drive\n"
          ]
        }
      ],
      "source": [
        "\n",
        "# This is to get access to the drive directory and to mount the google drive because the data  is inside of the google drive\n",
        "from google.colab import drive\n",
        "drive.mount('/content/drive')"
      ]
    },
    {
      "cell_type": "code",
      "source": [
        "#importing necessary library\n",
        "import numpy as np\n",
        "import pandas as pd\n",
        "import re, sys, os, shutil\n"
      ],
      "metadata": {
        "id": "Mfimea9nhlbn"
      },
      "execution_count": null,
      "outputs": []
    },
    {
      "cell_type": "code",
      "source": [
        "# Define the path to your file\n",
        "# file_path='/content/drive/MyDrive/Colab Notebooks/test'\n",
        "file_path=\"/content/drive/MyDrive/Colab Notebooks/test\"\n",
        "# file_path = filename"
      ],
      "metadata": {
        "id": "pB1g1v5ohlie"
      },
      "execution_count": null,
      "outputs": []
    },
    {
      "cell_type": "markdown",
      "source": [
        "Function to file the number of files and name of the files inside the data directory"
      ],
      "metadata": {
        "id": "Vgz8g9ZFqlEr"
      }
    },
    {
      "cell_type": "code",
      "source": [
        "def find_csv_files(file_path):\n",
        "    csv_files = []\n",
        "    for filename in os.listdir(file_path):\n",
        "        if filename.endswith(\".csv\"):\n",
        "            csv_files.append(filename)\n",
        "    return csv_files\n",
        "\n",
        "folder_path = file_path\n",
        "csv_files = find_csv_files(file_path)\n",
        "\n",
        "print(csv_files)\n",
        "print(len(csv_files))"
      ],
      "metadata": {
        "id": "nbgiBp24jK_1"
      },
      "execution_count": null,
      "outputs": []
    },
    {
      "cell_type": "code",
      "source": [
        "# #replace the white space and comma\n",
        "# test_file=csv_files[1]\n",
        "# print(test_file)\n",
        "\n",
        "# patter= re.sub(r'[\\s;]', '_', test_file)\n",
        "# print(patter)\n",
        "\n",
        "# # y= test_file.replace(';','-')\n",
        "# # print(y,test_file)\n",
        "\n",
        "\n",
        "\n",
        "\n"
      ],
      "metadata": {
        "colab": {
          "base_uri": "https://localhost:8080/"
        },
        "id": "h1UE8mHHRLIV",
        "outputId": "2a64663d-312a-4a28-9655-d49e62680f1d"
      },
      "execution_count": null,
      "outputs": [
        {
          "output_type": "stream",
          "name": "stdout",
          "text": [
            "Id-Vd-PFET [W11_SS6_PFET_W10L10_100C(54) ; 11_16_2023 10_54_35 AM].csv\n",
            "Id-Vd-PFET_[W11_SS6_PFET_W10L10_100C(54)___11_16_2023_10_54_35_AM].csv\n"
          ]
        }
      ]
    },
    {
      "cell_type": "markdown",
      "source": [
        "Final fuction to numerate the list and according to the list replace the file name according to a prefix name. Addionaly, This script will remove the white space and comma in the file name before transferting the list of file into a seperate directory.\n",
        "\n",
        "In my case, it will create a directory call 'renamed' and put the file nlist after removeing the comma and white space with replacmnet of underscore'_'"
      ],
      "metadata": {
        "id": "yI_UTKpGuwby"
      }
    },
    {
      "cell_type": "code",
      "source": [
        "def list_and_rename_files(folder_path, new_name_prefix):\n",
        "    \"\"\"Lists files in a folder and renames them with a new prefix.\"\"\"\n",
        "    if not os.path.exists(dest_dir):\n",
        "              os.makedirs(dest_dir)\n",
        "              print(\"destination Dir is \",dest_dir)\n",
        "    else:\n",
        "      print(\"dir exist\")\n",
        "\n",
        "    for count, filename in enumerate(os.listdir(folder_path)):\n",
        "        file_path = os.path.join(folder_path, filename)\n",
        "\n",
        "        # Check if it's a file (not a directory)\n",
        "        if os.path.isfile(file_path):\n",
        "            # new_name = f\"{new_name_prefix}_{count + 1}_{filename.replace(';','_')}_{os.path.splitext(filename)[1]}\"\n",
        "            # new_name=t[count].replace(';','_')\n",
        "            pattern=re.sub(r\"[\\s;]\", '_', filename)\n",
        "            new_name = f\"{new_name_prefix}_{count + 1}_{pattern}\"\n",
        "            new_file_path = os.path.join(dest_dir, new_name)\n",
        "            print(new_file_path)\n",
        "            shutil.copy(file_path, new_file_path)\n",
        "            # os.rename(file_path,new_file_path)\n",
        "            print(f\"Renamed: {filename} -> {new_name}\")\n",
        "if __name__ == \"__main__\":\n",
        "  folder_path = file_path  # Replace with your folder path\n",
        "  new_name_prefix = \"Re_file\"  # You may replace or keep black if you dont want any prefix\n",
        "  dest_dir=os.path.join(file_path,'Renamed_dir')\n",
        "  print(dest_dir)\n",
        "  list_and_rename_files(folder_path, new_name_prefix)\n"
      ],
      "metadata": {
        "collapsed": true,
        "id": "SDuBW98Go3bK"
      },
      "execution_count": null,
      "outputs": []
    },
    {
      "cell_type": "code",
      "source": [
        "from posix import replace\n",
        "\n",
        "test_file=csv_files[1]\n",
        "print(test_file)\n",
        "f=file_path+\"/\"+test_file\n",
        "# print(f)\n",
        "# df = pd.read_csv(f)\n",
        "i=[';',' ']\n",
        "s = re.sub(r'[\\s;]', '_', test_file)\n",
        "print(s)\n",
        "\n",
        "y= test_file.replace(';','-')\n",
        "print(y,test_file)\n"
      ],
      "metadata": {
        "colab": {
          "base_uri": "https://localhost:8080/"
        },
        "id": "rGXTfHJij-pc",
        "outputId": "bfa85140-e4ab-4155-a5aa-d27698f9bea3"
      },
      "execution_count": null,
      "outputs": [
        {
          "output_type": "stream",
          "name": "stdout",
          "text": [
            "Copy of Vth Const Id[3] PwrDevice [(3) ; 8_7_2023 11_04_21 AM].csv\n",
            "Copy_of_Vth_Const_Id[3]_PwrDevice_[(3)___8_7_2023_11_04_21_AM].csv\n",
            "Copy of Vth Const Id[3] PwrDevice [(3) - 8_7_2023 11_04_21 AM].csv Copy of Vth Const Id[3] PwrDevice [(3) ; 8_7_2023 11_04_21 AM].csv\n"
          ]
        }
      ]
    },
    {
      "cell_type": "code",
      "source": [],
      "metadata": {
        "id": "idQ4EEOKkaHR"
      },
      "execution_count": null,
      "outputs": []
    }
  ]
}